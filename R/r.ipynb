{
 "cells": [
  {
   "cell_type": "markdown",
   "id": "d635a14b",
   "metadata": {},
   "source": [
    "R中读取文件的方式\n",
    "- .txt\n",
    "- .csv\n",
    "- .xlsx"
   ]
  },
  {
   "cell_type": "code",
   "execution_count": 1,
   "id": "bb733b28",
   "metadata": {
    "vscode": {
     "languageId": "r"
    }
   },
   "outputs": [
    {
     "name": "stdout",
     "output_type": "stream",
     "text": [
      "[1] \"Hello world\"\n"
     ]
    }
   ],
   "source": [
    "print(\"Hello world\")"
   ]
  },
  {
   "cell_type": "code",
   "execution_count": null,
   "id": "d7f81bee",
   "metadata": {
    "vscode": {
     "languageId": "r"
    }
   },
   "outputs": [
    {
     "data": {
      "text/html": [
       "2"
      ],
      "text/latex": [
       "2"
      ],
      "text/markdown": [
       "2"
      ],
      "text/plain": [
       "[1] 2"
      ]
     },
     "metadata": {},
     "output_type": "display_data"
    },
    {
     "name": "stdout",
     "output_type": "stream",
     "text": [
      "[1] 2\n",
      "[1] NA\n"
     ]
    }
   ],
   "source": [
    "1 + 1\n",
    "a = 1\n",
    "b = 1\n",
    "c = a + b\n",
    "print(c)\n"
   ]
  },
  {
   "cell_type": "code",
   "execution_count": 6,
   "id": "2eb8ff4f",
   "metadata": {
    "vscode": {
     "languageId": "r"
    }
   },
   "outputs": [
    {
     "data": {
      "text/html": [
       "'file.rds'"
      ],
      "text/latex": [
       "'file.rds'"
      ],
      "text/markdown": [
       "'file.rds'"
      ],
      "text/plain": [
       "[1] \"file.rds\""
      ]
     },
     "metadata": {},
     "output_type": "display_data"
    }
   ],
   "source": [
    "name <- \"/data/file.rds\"\n",
    "basename(name)"
   ]
  }
 ],
 "metadata": {
  "kernelspec": {
   "display_name": "R(Seurat)",
   "language": "R",
   "name": "seurat"
  },
  "language_info": {
   "codemirror_mode": "r",
   "file_extension": ".r",
   "mimetype": "text/x-r-source",
   "name": "R",
   "pygments_lexer": "r",
   "version": "4.4.2"
  }
 },
 "nbformat": 4,
 "nbformat_minor": 5
}
