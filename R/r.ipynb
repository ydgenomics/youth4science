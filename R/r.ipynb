{
 "cells": [
  {
   "cell_type": "markdown",
   "id": "d635a14b",
   "metadata": {},
   "source": [
    "R中读取文件的方式\n",
    "- .txt\n",
    "- .csv\n",
    "- .xlsx"
   ]
  },
  {
   "cell_type": "code",
   "execution_count": null,
   "id": "bb733b28",
   "metadata": {},
   "outputs": [],
   "source": []
  }
 ],
 "metadata": {
  "kernelspec": {
   "display_name": "Python 3",
   "language": "python",
   "name": "python3"
  },
  "language_info": {
   "name": "python",
   "version": "3.13.1"
  }
 },
 "nbformat": 4,
 "nbformat_minor": 5
}
