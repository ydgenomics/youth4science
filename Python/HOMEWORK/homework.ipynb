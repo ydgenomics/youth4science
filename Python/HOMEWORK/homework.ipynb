{
 "cells": [
  {
   "cell_type": "markdown",
   "id": "9222ba32",
   "metadata": {},
   "source": [
    "说明：\n",
    "\n",
    "第二、三题按照要求提交PDF文件，即将源程序及执行结果均粘贴到一个word文档中，保存为PDF文件。\n",
    "\n",
    " \n",
    "\n",
    "一、选择一种Python IDE，下载Python 3.x并安装。\n",
    "\n",
    "二、使用交互命令方式，在屏幕输出“We’ll study Python programming.”，并将执行结果截图。\n",
    "\n",
    "三、使用文件方式，输入如下程序，并将执行结果截图。\n",
    "\n",
    "#从键盘输入两个整数，进行+、-、*、/运算\n",
    "\n",
    "a=int(input('Input a:'))\n",
    "\n",
    "b=int(input('Input b:'))\n",
    "\n",
    "print('a+b=',a+b)\n",
    "\n",
    "print('a-b=',a-b)\n",
    "\n",
    "print('a*b=',a*b)\n",
    "\n",
    "print('a/b=',a/b)"
   ]
  },
  {
   "cell_type": "code",
   "execution_count": 1,
   "id": "388eed80",
   "metadata": {},
   "outputs": [
    {
     "name": "stdout",
     "output_type": "stream",
     "text": [
      "We'll study Python programming.\n"
     ]
    }
   ],
   "source": [
    "print(\"We'll study Python programming.\")"
   ]
  },
  {
   "cell_type": "code",
   "execution_count": 3,
   "id": "c66f48eb",
   "metadata": {},
   "outputs": [
    {
     "name": "stdout",
     "output_type": "stream",
     "text": [
      "0\n",
      "1\n",
      "2\n",
      "3\n"
     ]
    }
   ],
   "source": [
    "for i in range(4):\n",
    "    print(i)"
   ]
  },
  {
   "cell_type": "code",
   "execution_count": 10,
   "id": "96e39571",
   "metadata": {},
   "outputs": [
    {
     "name": "stdout",
     "output_type": "stream",
     "text": [
      "Print: =0\n",
      "Print: =1\n",
      "Print: =2\n",
      "Print: =3\n"
     ]
    }
   ],
   "source": [
    "list = [0, 1, 2, 3]\n",
    "for i in list:\n",
    "    print(\"Print: \", i, sep=\"=\", end=\"\\n\")"
   ]
  }
 ],
 "metadata": {
  "kernelspec": {
   "display_name": "Python 3",
   "language": "python",
   "name": "python3"
  },
  "language_info": {
   "codemirror_mode": {
    "name": "ipython",
    "version": 3
   },
   "file_extension": ".py",
   "mimetype": "text/x-python",
   "name": "python",
   "nbconvert_exporter": "python",
   "pygments_lexer": "ipython3",
   "version": "3.13.1"
  }
 },
 "nbformat": 4,
 "nbformat_minor": 5
}
